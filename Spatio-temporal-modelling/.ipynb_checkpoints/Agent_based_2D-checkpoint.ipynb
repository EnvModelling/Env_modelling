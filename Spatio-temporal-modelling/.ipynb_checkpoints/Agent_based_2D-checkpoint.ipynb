{
 "cells": [
  {
   "cell_type": "markdown",
   "metadata": {},
   "source": [
    "# 2D model: Agent based population interaction model\n",
    "\n",
    "\n",
    "<div class=\"alert alert-block alert-success\">\n",
    "\n",
    "In this notebook we provide the code which demonstrates a basic agent based model of two populations interacting with each other. If you recall from the first year course on programming, we built and deployed a version of Conway's game of life where we implemented a set of rules which dictated the state and evolution of a 2D space. In this notebook we again used a 2D space but populate it with two species which, using the class object in Python, allows us to assign and track the individual status of members of each group. We explain this in more detail shortly. As with all practicals given in this module, the model is ready for you to use. In the Exercises however there is an opportunity to modify the existing code basis and quantify any impacts that may have.\n",
    "    \n",
    " - 1) [Introduction to the agent based approach](#Introduction)\n",
    " - 2) [Creating rules for our population](#rules)\n",
    " - 3) [Animating the simulation](#animating)\n",
    " - 4) [Exercises](#Exercises)\n",
    " \n",
    "As with our other notebooks, we will provide you with a template for plotting the results. These practicals are designed for you to take outside of class and continue working on them. \n",
    "\n",
    "</div>"
   ]
  },
  {
   "cell_type": "markdown",
   "metadata": {},
   "source": [
    "## 1) Introduction to the agent based approach<a name=\"Introduction\"></a>\n",
    "\n",
    "\n",
    "\n",
    "<div>\n",
    "<img src=\"..\\images\\Examples-of-Agent-based-modeling.jpg\" width=\"700\"/>\n",
    "</div>\n",
    "\n",
    "\n",
    "Agent based models, or ABM's, are 'a [class of computational models](https://en.wikipedia.org/wiki/Agent-based_model) for simulating the actions and interactions of autonomous agents (both individual or collective entities such as organizations or groups) with a view to assessing their effects on the system as a whole. As an example,[see the picture above [source Univ Surrey]](https://mosimtec.com/agent-based-modeling-examples/). It combines elements of game theory, complex systems, emergence, computational sociology, multi-agent systems, and evolutionary programming.\n",
    "\n",
    "How do we implement individual agents? There is a huge amount of literature and existing research around ABMs. In Python we can use the [class object](https://docs.python.org/3/tutorial/classes.html) which allows us to create individual instances with specific traits, whether it be data or action based. Thus, if we start to design individual populations, we can assign individual members of those and act accordingly.\n",
    "\n",
    "We have not covered the class object in our courses yet, but in the code below we define a class 'agent'. Thus, you will see the following:\n",
    "\n",
    "```python\n",
    "# class, defining agents with their position and group membership\n",
    "class agent:\n",
    "    def __init__(self,x,y,group):\n",
    "        self.score = 100 # agent's life score\n",
    "        self.x = x\n",
    "        self.y = y\n",
    "        self.group = group\n",
    "```\n",
    "which means when we create an instance of an agent in our simulation, we assign it a position in our 2D space [x and y], and also a group membership. We can store each class instance in a list. We pass x,y and the group letter to each instance. Notice the term ```self```, which has the attributes ```.x``` and so on. We also initialise each instance with a ```score```. This score will depleted according to the action of the other group.\n",
    "\n",
    "To summarise what we are doing, and as discussed in the lecture. We have two groups with a specific number of members. We call these groups $A$ and $B$. You can appreciate there are many ways we could implement the interaction between both, but by taking a fairly [simple approach](http://www.supplychaindataanalytics.com/category/agent-based-simulation/), here we initialise a 2D space of 100x100 cells, and randomly position members from both groups across this space with an initial fixed number of 600 of each. Once we have assigned those positions we assuem they remain fixed, but then as we loop through each iteration of the space they will interact according to the distance between them.\n",
    "\n",
    "In this example, we implement the following:\n",
    "\n",
    " - Each agent searches their local space, defined as ```attackRange``` units horizontally and vertically from its current location. \n",
    " - Each agent has a randomly distributed attack 'damage' to a member of the other group, ranging from 10 to 60 units extracted from the agent's ```score```.\n",
    " - Once a particular agent has a lifescore at or below 0 they are removed from the field.\n",
    "\n",
    "After we loop through these rules we can asses the impact of a number of initial conditions or strategies imposed on each group. To visualise the location of each agent, we create a 2D numeric space with 0 for no enries, 1 for group $A$ and 2 for group $B$.\n",
    "\n",
    "Run the following code and you will see an initial distribution of agents belonging to groups $A$ and $B$. \n"
   ]
  },
  {
   "cell_type": "code",
   "execution_count": 1,
   "metadata": {},
   "outputs": [
    {
     "data": {
      "image/png": "[encoded data removed]",
      "text/plain": [
       "<Figure size 720x720 with 1 Axes>"
      ]
     },
     "metadata": {
      "needs_background": "light"
     },
     "output_type": "display_data"
    }
   ],
   "source": [
    "%matplotlib inline\n",
    "import matplotlib\n",
    "import matplotlib.pyplot as plt #as per the above, much easier to write over and over again\n",
    "from numpy import random\n",
    "from matplotlib import colors\n",
    "from IPython.display import clear_output, display\n",
    "import pdb\n",
    "import random\n",
    "import numpy as np\n",
    "\n",
    "# class, defining agents with their position and group membership\n",
    "class agent:\n",
    "    def __init__(self,x,y,group):\n",
    "        self.score = 100 # agent's life score\n",
    "        self.x = x\n",
    "        self.y = y\n",
    "        self.group = group\n",
    "        \n",
    "# define a function for creating agents and assigning them to grid\n",
    "def agentCreator(size,group,groupList,field,n,m):\n",
    "    # loop through entire group\n",
    "    for j in range(0,size):\n",
    "        # select random available location \n",
    "        while True:\n",
    "            # random x coordinate\n",
    "            x = random.choice(range(0,n))\n",
    "            # random y coordinate\n",
    "            y = random.choice(range(0,m))\n",
    "            # check if spot is available; if not then re-iterate \n",
    "            if field[x][y] == None:\n",
    "                field[x][y] = agent(x=x,y=y,group=group)\n",
    "                # append agent object reference to group list\n",
    "                groupList.append(field[x][y])\n",
    "                # exit while loop; spot on field is taken\n",
    "                break\n",
    "\n",
    "# function for creating an initial grid\n",
    "def initfield(populationSizeA,populationSizeB):\n",
    "    # initializing new empty grid, using list comprehension in Python\n",
    "    field_grid = [[None for i in range(0,100)] for i in range(0,100)]\n",
    "    # create empty list for containing agent references in future, type A & B\n",
    "    agents_A = []\n",
    "    agents_B = []\n",
    "    # assigning random spots to agents of group A and B; \n",
    "    agentCreator(size = populationSizeA,\n",
    "                    group = \"A\",\n",
    "                    groupList = agents_A,\n",
    "                    field = field_grid,\n",
    "                    n = 100,\n",
    "                    m = 100)\n",
    "    agentCreator(size = populationSizeB,\n",
    "                    group = \"B\",\n",
    "                    groupList = agents_B,\n",
    "                    field = field_grid,\n",
    "                    n = 100,\n",
    "                    m = 100)\n",
    "    # return populated grid and a list of agents in groups A and B\n",
    "    return field_grid, agents_A, agents_B\n",
    "\n",
    "# executing above function for a population size of 1000 for both groups\n",
    "field, agents_A, agents_B = initfield(populationSizeA=1000,populationSizeB=1000)\n",
    "\n",
    "# Now lets plot the 2D space and see what our initial condition looks like\n",
    "def mapfield(field):\n",
    "    #.imshow() needs a matrix with float elements;\n",
    "    population = [[0.0 for i in range(0,100)] for i in range(0,100)]\n",
    "    # if agent is of type A, put a 1.0, if of type B, pyt a 2.0\n",
    "    for i in range(1,100):\n",
    "        for j in range(1,100):\n",
    "            if field[i][j] == None: # empty\n",
    "                pass # leave 0.0 in population cell\n",
    "            elif field[i][j].group == \"A\": # group A agents\n",
    "                population[i][j] = 1.0 # 1.0 means \"A\"\n",
    "            else: # group B agents\n",
    "                population[i][j] = 2.0 # 2.0 means \"B\"\n",
    "    # return mapped values\n",
    "    return population\n",
    "\n",
    "population_grid = mapfield(field)\n",
    "\n",
    "colormap = colors.ListedColormap([\"white\",\"green\",\"blue\"])\n",
    "\n",
    "fig, ax = plt.subplots(figsize=(10,10))\n",
    "ax.imshow(population_grid, cmap=colormap)\n",
    "plt.title('Agent distribution: Group A green, B blue')\n",
    "plt.show()\n"
   ]
  },
  {
   "cell_type": "markdown",
   "metadata": {},
   "source": [
    "## 2) Creating rules for our population<a name=\"rules\"></a>\n",
    "\n",
    "We have already discussed what strategies we wish to implement in each group and how they are removed from the 2D space. In the following code snippet we create three functions that performs that removal and, when cells are identified as either $A$ or $B$, implements the approach outlined above. You will need to run the box below to make these functions available."
   ]
  },
  {
   "cell_type": "code",
   "execution_count": 2,
   "metadata": {},
   "outputs": [],
   "source": [
    "# function for removing agents from battlefield grid when life score is not strictly positive\n",
    "def removeAgents(field):\n",
    "    # identifying agents with life score of score or below - and removing them from the grid\n",
    "    for i in range(0,len(field)):\n",
    "        for j in range(0,len(field)):\n",
    "            if field[i][j]:\n",
    "                if field[i][j].score <= 0:\n",
    "                    # remove this agent since life score is not strictly positive\n",
    "                    field[i][j] = None\n",
    "        \n",
    "# function implementing one round of fighting, for an agent of type A\n",
    "def oneRoundAgentA(i,j,attackRange):\n",
    "    found_i = None\n",
    "    found_j = None\n",
    "    # look in neigbouring cells in same order for each iteration\n",
    "    for k in range(i-attackRange,i+attackRange+1):\n",
    "        for l in range(j-attackRange,j+attackRange+1):\n",
    "            # check for negative index values; if so - break!\n",
    "            if k < 0 or l < 0:\n",
    "                break\n",
    "                # check for index values above 99, if so break!\n",
    "            if k > 99 or l > 99:\n",
    "                break\n",
    "            if field[k][l]:\n",
    "                if field[k][l].group == \"B\": # then this is an enemy\n",
    "                    if found_i == None:\n",
    "                        found_i = k\n",
    "                        found_j = l\n",
    "                    \n",
    "    # deal damage to identified enemies\n",
    "    if found_i:\n",
    "        field[found_i][found_j].score = field[found_i][found_j].score - random.randint(10,60)\n",
    "        \n",
    "# function implementing one round of fighting, for an agent of type B\n",
    "def oneRoundAgentB(i,j,attackRange):\n",
    "    found_i = None\n",
    "    found_j = None\n",
    "    # look in neigbouring cells in same order for each iteration\n",
    "    \n",
    "    # In B's case we look randomly through the surrounding space\n",
    "    #pdb.set_trace()\n",
    "    list1 = [k for k in range(i-attackRange,i+attackRange+1)]\n",
    "    list2 = [l for l in range(j-attackRange,j+attackRange+1)]\n",
    "    random.shuffle(list1)\n",
    "    random.shuffle(list2)\n",
    "    for k in list1:\n",
    "        for l in list2:\n",
    "            # check for negative index values; if so - break!\n",
    "            if k < 0 or l < 0:\n",
    "                break\n",
    "                # check for index values above 99, if so break!\n",
    "            if k > 99 or l > 99:\n",
    "                break\n",
    "            if field[k][l]:\n",
    "                if field[k][l].group == \"A\": # then this is an enemy\n",
    "                    if found_i == None:\n",
    "                        found_i = k\n",
    "                        found_j = l\n",
    "    # deal damage to identified enemies\n",
    "    if found_i:\n",
    "        field[found_i][found_j].score = field[found_i][found_j].score - random.randint(10,60)"
   ]
  },
  {
   "cell_type": "markdown",
   "metadata": {},
   "source": [
    "## 3) Animating the simulation<a name=\"animating\"></a>\n",
    "\n",
    "Like our other notebooks, since we are cycling through a series of time steps we can create a simple animation of how our space evolves. "
   ]
  },
  {
   "cell_type": "code",
   "execution_count": 3,
   "metadata": {},
   "outputs": [],
   "source": [
    "import time\n",
    "\n",
    "#fig, ax = plt.subplots(figsize=(10,10))\n",
    "#ax.imshow(population_grid, cmap=colormap)\n",
    "#plt.title('Agent distribution: Group A green, B blue')\n",
    "#plt.show()\n",
    "\n",
    "record_field = np.zeros((100,100,50),dtype=float)\n",
    "\n",
    "for counter in range(0,50): # in this case I am conducting 50 iterations \n",
    "     \n",
    "    #plt.clf()\n",
    "    #display(plt.gcf())\n",
    "    #clear_output(wait=True)\n",
    "    \n",
    "    #print(counter)\n",
    "    # iterating through all cells on the battlefield\n",
    "    for x in range(0,100):\n",
    "        for y in range(0,100):\n",
    "            # print(\"top tier iteration, i: \"+str(i)+\", j: \"+str(j))\n",
    "            # check if there is an agent within the respective cell\n",
    "            if field[x][y] != None:\n",
    "                # depending on the type: execute respective attack strategy\n",
    "                if field[x][y].group == \"A\":\n",
    "                    # one round of battle for this agent of type A\n",
    "                    oneRoundAgentA(i = x, j = y,attackRange=10)\n",
    "                else: \n",
    "                    # one round of battle for this agent of type B\n",
    "                    oneRoundAgentB(i = x, j = y,attackRange=10)\n",
    "    # identifying agents with life score of score or below - and removing them from the grid\n",
    "    removeAgents(field)\n",
    "    population_grid = mapfield(field)\n",
    "    record_field[:,:,counter] = population_grid\n",
    "    #ax.imshow(population_grid, cmap=colormap)\n",
    "    #plt.show()\n",
    "    #time.sleep(1);\n"
   ]
  },
  {
   "cell_type": "code",
   "execution_count": 4,
   "metadata": {},
   "outputs": [
    {
     "data": {
      "image/png": "[encoded data removed]",
      "text/plain": [
       "<Figure size 720x720 with 1 Axes>"
      ]
     },
     "metadata": {
      "needs_background": "light"
     },
     "output_type": "display_data"
    }
   ],
   "source": [
    "fig, ax = plt.subplots(figsize=(10,10))\n",
    "plt.imshow(record_field[:,:,0], cmap=colormap)\n",
    "plt.title('Agent distribution: Group A green, B blue')\n",
    "plt.show()\n",
    "\n",
    "for counter in range(0,50):\n",
    "    plt.rcParams[\"figure.figsize\"] = (10, 10)\n",
    "    display(plt.gcf())\n",
    "    clear_output(wait=True)\n",
    "    plt.imshow(record_field[:,:,counter], cmap=colormap)\n",
    "    plt.show();\n",
    "    time.sleep(0.2);\n",
    "    "
   ]
  },
  {
   "cell_type": "markdown",
   "metadata": {},
   "source": [
    "## 4) Evaluating the change in species populations\n",
    "\n",
    "Whilst the above visulisation is a good indicator about the impacts of the implemented strategy and initial conditions, we may want to simply plot the change in the number of species as a function of time.\n",
    "\n",
    "The following code simply counts how any $A$ and $B$ species there are and then plots them as a function of 'time', time being defined as steps between each simulation."
   ]
  },
  {
   "cell_type": "code",
   "execution_count": 6,
   "metadata": {},
   "outputs": [
    {
     "data": {
      "image/png": "[encoded data removed]",
      "text/plain": [
       "<Figure size 720x720 with 1 Axes>"
      ]
     },
     "metadata": {
      "needs_background": "light"
     },
     "output_type": "display_data"
    }
   ],
   "source": [
    "A_list = np.zeros((50), dtype=int)\n",
    "B_list = np.zeros((50), dtype=int)\n",
    "time_array = np.linspace(0.0, 50.0, num=50)\n",
    "\n",
    "for counter in range(0,50):\n",
    "    A_list[counter]=np.count_nonzero(record_field[:,:,counter] == 1)\n",
    "    B_list[counter]=np.count_nonzero(record_field[:,:,counter] == 2)\n",
    "    \n",
    "fig, ax = plt.subplots(figsize=(10,10))\n",
    "plt.plot(time_array, A_list, 'g', label='specie A')\n",
    "plt.plot(time_array, B_list, 'b', label='specie B')\n",
    "plt.legend()\n",
    "plt.show()\n"
   ]
  },
  {
   "cell_type": "markdown",
   "metadata": {},
   "source": [
    "<div class=\"alert alert-block alert-success\">\n",
    "<b> Exercises </b> <a name=\"Exercises\"></a>\n",
    "\n",
    "In this notebook, try to work through the following tasks:\n",
    "\n",
    "1. - Change the initial concentrations of both species. Evaluate the impact this has on the final numbers.\n",
    "2. - Change the strategy of species B to stop searching once the first member of A has been found. Once this has changed, what impact does this have on the final concentrations for a given starting number?\n",
    "\n",
    "\n",
    "</div>"
   ]
  },
  {
   "cell_type": "code",
   "execution_count": null,
   "metadata": {},
   "outputs": [],
   "source": []
  }
 ],
 "metadata": {
  "kernelspec": {
   "display_name": "Python 3",
   "language": "python",
   "name": "python3"
  },
  "language_info": {
   "codemirror_mode": {
    "name": "ipython",
    "version": 3
   },
   "file_extension": ".py",
   "mimetype": "text/x-python",
   "name": "python",
   "nbconvert_exporter": "python",
   "pygments_lexer": "ipython3",
   "version": "3.7.4"
  }
 },
 "nbformat": 4,
 "nbformat_minor": 2
}
